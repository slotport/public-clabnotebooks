{
  "nbformat": 4,
  "nbformat_minor": 0,
  "metadata": {
    "colab": {
      "name": "snippets",
      "provenance": [],
      "collapsed_sections": [],
      "include_colab_link": true
    },
    "kernelspec": {
      "display_name": "Python 3",
      "name": "python3"
    }
  },
  "cells": [
    {
      "cell_type": "markdown",
      "metadata": {
        "id": "view-in-github",
        "colab_type": "text"
      },
      "source": [
        "<a href=\"https://colab.research.google.com/github/slotport/public-colabnotebooks/blob/main/snippets.ipynb\" target=\"_parent\"><img src=\"https://colab.research.google.com/assets/colab-badge.svg\" alt=\"Open In Colab\"/></a>"
      ]
    },
    {
      "cell_type": "markdown",
      "metadata": {
        "id": "Y8XqtnLjuOY4"
      },
      "source": [
        "# @Google Driveをマウントする"
      ]
    },
    {
      "cell_type": "code",
      "metadata": {
        "id": "cc_GjyRCuZ5j"
      },
      "source": [
        "from google.colab import drive\n",
        "drive.mount('/content/drive')"
      ],
      "execution_count": null,
      "outputs": []
    },
    {
      "cell_type": "markdown",
      "metadata": {
        "id": "JIhwu52Lul9Y"
      },
      "source": [
        "# @sshサーバを起動する"
      ]
    },
    {
      "cell_type": "code",
      "metadata": {
        "id": "n6Oy5RW2uqVC"
      },
      "source": [
        "!apt -y install openssh-server\n",
        "!service ssh start"
      ],
      "execution_count": null,
      "outputs": []
    },
    {
      "cell_type": "code",
      "metadata": {
        "id": "OscIClJzzxJ9"
      },
      "source": [
        "import os\n",
        "import re\n",
        "home = os.environ[\"HOME\"]\n",
        "try:\n",
        "  os.makedirs(f\"{home}/.ssh\")\n",
        "except FileExistsError:\n",
        "  pass\n",
        "os.chmod(f\"{home}/.ssh\", 0o700)\n",
        "key = \"\"\n",
        "exist = False\n",
        "with open(\"/content/drive/MyDrive/colab_server/authorized_key_path.txt\") as pathfile:\n",
        "  with open(pathfile.read().strip()) as keyfile:\n",
        "    _ = keyfile.read()\n",
        "    _ = re.match(r\"ssh-\\S+\\s+\\S+\", _)\n",
        "    if _:\n",
        "      key = _[0]\n",
        "if key:\n",
        "  print(key)\n",
        "  try:\n",
        "    with open(f\"{home}/.ssh/authorized_keys\") as authkeysfile:\n",
        "      for _ in authkeysfile.readlines():\n",
        "        if key in _:\n",
        "          exist = True\n",
        "  except FileNotFoundError:\n",
        "    pass\n",
        "if not exist:\n",
        "  with open(f\"{home}/.ssh/authorized_keys\", mode=\"at\") as authkeysfile:\n",
        "    authkeysfile.write(key + \"\\n\")\n",
        "else:\n",
        "  print(\"already exists\")\n",
        "os.chmod(f\"{home}/.ssh/authorized_keys\", 0o600)"
      ],
      "execution_count": null,
      "outputs": []
    },
    {
      "cell_type": "markdown",
      "metadata": {
        "id": "sNfeX5OT3y9k"
      },
      "source": [
        "# @ngrokに公開する"
      ]
    },
    {
      "cell_type": "code",
      "metadata": {
        "id": "n-b1cGzdveFv"
      },
      "source": [
        "!test -f ngrok || curl -sL https://bin.equinox.io/c/4VmDzA7iaHb/ngrok-stable-linux-amd64.tar.gz | tar xzf - ngrok > ngrok\n",
        "!chmod 755 ngrok\n",
        "!ls -l ngrok"
      ],
      "execution_count": null,
      "outputs": []
    },
    {
      "cell_type": "code",
      "metadata": {
        "id": "5z4u5hityS9G"
      },
      "source": [
        "!./ngrok authtoken $(cat /content/drive/MyDrive/colab_server/ngrok_authtoken.txt)"
      ],
      "execution_count": null,
      "outputs": []
    },
    {
      "cell_type": "code",
      "metadata": {
        "id": "SUG-ha_E4UDD"
      },
      "source": [
        "import os\n",
        "get_ipython().system_raw('bash -c \"./ngrok tcp 22\"   &')\n"
      ],
      "execution_count": null,
      "outputs": []
    },
    {
      "cell_type": "code",
      "metadata": {
        "id": "8o2bl3s67YbG"
      },
      "source": [
        "import requests\n",
        "import urllib.parse\n",
        "\n",
        "def get_ngrok_info():\n",
        "  return requests.get('http://localhost:4040/api/tunnels').json()\n",
        "\n",
        "def get_ngrok_tunnels():\n",
        "  for tunnel in get_ngrok_info()['tunnels']:\n",
        "    name = tunnel['name']\n",
        "    yield name, tunnel\n",
        "\n",
        "def get_ngrok_tunnel(name):\n",
        "  for name1, tunnel in get_ngrok_tunnels():\n",
        "    if name == name1:\n",
        "      return tunnel\n",
        "\n",
        "def get_ngrok_url(name, local=False):\n",
        "  if local:\n",
        "    return get_ngrok_tunnel(name)['config']['addr']\n",
        "  else:\n",
        "    return get_ngrok_tunnel(name)['public_url']"
      ],
      "execution_count": null,
      "outputs": []
    },
    {
      "cell_type": "code",
      "metadata": {
        "id": "lxnfzB6E7Zc-"
      },
      "source": [
        "get_ngrok_url(\"command_line\")"
      ],
      "execution_count": null,
      "outputs": []
    }
  ]
}